{
 "cells": [
  {
   "cell_type": "code",
   "execution_count": 3,
   "metadata": {
    "scrolled": true
   },
   "outputs": [],
   "source": [
    "from pymatgen.ext.matproj import MPRester\n",
    "from pymatgen.io.cif import CifWriter\n",
    "from pymatgen import Lattice as lattice\n",
    "from pymatgen.symmetry.analyzer import SpacegroupAnalyzer\n",
    "from pprint import pprint"
   ]
  },
  {
   "cell_type": "code",
   "execution_count": 4,
   "metadata": {},
   "outputs": [],
   "source": [
    "with MPRester(\"id9vmr7Ble8bEfMg\") as m:\n",
    "    structure = m.get_structure_by_material_id(\"mp-7017\")\n",
    "    parser = CifWriter(structure)\n",
    "    parser.write_file('mystructure.cif')"
   ]
  },
  {
   "cell_type": "code",
   "execution_count": 7,
   "metadata": {},
   "outputs": [
    {
     "name": "stdout",
     "output_type": "stream",
     "text": [
      "Réseau direct\n",
      "[{'material_id': 'mp-7017',\n",
      "  'structure': Structure Summary\n",
      "Lattice\n",
      "    abc : 5.993341272143531 5.993341271541307 5.993341267953185\n",
      " angles : 30.48100273444917 30.481002751844073 30.481002742893047\n",
      " volume : 49.10147070164423\n",
      "      A : 3.05157356 0.00805236 5.15829173\n",
      "      B : 1.41767822 2.7022869 5.15829173\n",
      "      C : 0.01327805 0.00805236 5.99332115\n",
      "PeriodicSite: N (3.2799, 1.9891, 11.9341) [0.7317, 0.7317, 0.7317]\n",
      "PeriodicSite: N (1.2026, 0.7293, 4.3758) [0.2683, 0.2683, 0.2683]\n",
      "PeriodicSite: Na (2.2413, 1.3592, 8.1550) [0.5000, 0.5000, 0.5000]\n",
      "PeriodicSite: Nb (0.0000, 0.0000, 0.0000) [0.0000, 0.0000, 0.0000]}]\n"
     ]
    }
   ],
   "source": [
    "    print('Réseau direct')\n",
    "    pprint(m.get_data(\"mp-7017\", prop=\"structure\"))"
   ]
  },
  {
   "cell_type": "code",
   "execution_count": 128,
   "metadata": {},
   "outputs": [
    {
     "name": "stdout",
     "output_type": "stream",
     "text": [
      "Coordonnées des vecteurs de base du réseau direct\n",
      "3.051574 0.008052 5.158292\n",
      "1.417678 2.702287 5.158292\n",
      "0.013278 0.008052 5.993321\n"
     ]
    }
   ],
   "source": [
    "    print('Coordonnées des vecteurs de base du réseau direct')\n",
    "    print(structure.lattice)"
   ]
  },
  {
   "cell_type": "code",
   "execution_count": 129,
   "metadata": {},
   "outputs": [
    {
     "name": "stdout",
     "output_type": "stream",
     "text": [
      "Longueurs des vecteurs de base du réseau direct\n",
      "a =\n",
      "5.993341272143531\n",
      "b =\n",
      "5.993341271541307\n",
      "c =\n",
      "5.993341267953185\n"
     ]
    }
   ],
   "source": [
    "    print('Longueurs des vecteurs de base du réseau direct')\n",
    "    print('a =')\n",
    "    print(structure.lattice.lengths[0])\n",
    "    print('b =')\n",
    "    print(structure.lattice.lengths[1])\n",
    "    print('c =')\n",
    "    print(structure.lattice.lengths[2])"
   ]
  },
  {
   "cell_type": "code",
   "execution_count": 130,
   "metadata": {},
   "outputs": [
    {
     "name": "stdout",
     "output_type": "stream",
     "text": [
      "Groupe spatial\n",
      "[{'spacegroup.symbol': 'R-3m'}]\n"
     ]
    }
   ],
   "source": [
    "    print('Groupe spatial')\n",
    "    data = m.query(criteria={\"task_id\" : {\"$in\" : [\"mp-7017\"]}}, properties=[\"spacegroup.symbol\"])\n",
    "    print(data)"
   ]
  },
  {
   "cell_type": "code",
   "execution_count": 131,
   "metadata": {},
   "outputs": [
    {
     "name": "stdout",
     "output_type": "stream",
     "text": [
      "Groupe ponctuel\n",
      "[{'spacegroup.point_group': '-3m'}]\n"
     ]
    }
   ],
   "source": [
    "    print('Groupe ponctuel')\n",
    "    data1 = m.query(criteria={\"task_id\" : {\"$in\" : [\"mp-7017\"]}}, properties=[\"spacegroup.point_group\"])\n",
    "    print(data1)"
   ]
  },
  {
   "cell_type": "code",
   "execution_count": 132,
   "metadata": {},
   "outputs": [
    {
     "name": "stdout",
     "output_type": "stream",
     "text": [
      "Système cristallin\n",
      "trigonal\n"
     ]
    }
   ],
   "source": [
    "    print('Système cristallin')\n",
    "    sga = SpacegroupAnalyzer(structure)\n",
    "    print(sga.get_crystal_system()) "
   ]
  },
  {
   "cell_type": "code",
   "execution_count": 135,
   "metadata": {},
   "outputs": [
    {
     "name": "stdout",
     "output_type": "stream",
     "text": [
      "Type de maille\n",
      "rhombohedral\n",
      "R est bien la maille primitive d un système trigonal\n"
     ]
    }
   ],
   "source": [
    "    print('Type de maille')\n",
    "    print(sga.get_lattice_type())\n",
    "    print('R est bien la maille primitive d un système trigonal')"
   ]
  },
  {
   "cell_type": "code",
   "execution_count": 134,
   "metadata": {},
   "outputs": [
    {
     "name": "stdout",
     "output_type": "stream",
     "text": [
      "Réseau réciproque\n",
      "Lattice\n",
      "    abc : 2.3315659673435727 2.3315659673435722 2.3315659673435727\n",
      " angles : 117.5734045069058 117.5734045069058 117.5734045069058\n",
      " volume : 5.051787855422714\n",
      "      A : 2.066743291372714 -1.0792460459231012 0.0\n",
      "      B : 0.0 2.3315659673435722 0.0\n",
      "      C : -1.7811139845336625 -1.0792460459231015 1.048361009639685\n"
     ]
    }
   ],
   "source": [
    "    print('Réseau réciproque')\n",
    "    res = lattice.rhombohedral(structure.lattice.lengths[0],structure.lattice.angles[0])\n",
    "    reseaurec = res.reciprocal_lattice\n",
    "    pprint(reseaurec)"
   ]
  },
  {
   "cell_type": "code",
   "execution_count": 113,
   "metadata": {},
   "outputs": [
    {
     "name": "stdout",
     "output_type": "stream",
     "text": [
      "Longueurs des vecteurs de base du réseau réciproque\n",
      "a =\n",
      "2.3315659673435727\n",
      "b =\n",
      "2.3315659673435722\n",
      "c =\n",
      "2.3315659673435727\n"
     ]
    }
   ],
   "source": [
    "    print('Longueurs des vecteurs de base du réseau réciproque')\n",
    "    print('a =')\n",
    "    print(reseaurec.lengths[0])\n",
    "    print('b =')\n",
    "    print(reseaurec.lengths[1])\n",
    "    print('c =')\n",
    "    print(reseaurec.lengths[2])"
   ]
  },
  {
   "cell_type": "code",
   "execution_count": 123,
   "metadata": {},
   "outputs": [
    {
     "name": "stdout",
     "output_type": "stream",
     "text": [
      "Coordonnées des vecteurs de base du réseau réciproque\n",
      "2.067136 -1.078488 -0.003131\n",
      "-0.000860 2.331564 -0.003131\n",
      "-1.778389 -1.078488 1.053754\n"
     ]
    }
   ],
   "source": [
    "    print('Coordonnées des vecteurs de base du réseau réciproque')\n",
    "    print(structure.lattice.reciprocal_lattice)"
   ]
  },
  {
   "cell_type": "code",
   "execution_count": null,
   "metadata": {},
   "outputs": [],
   "source": []
  },
  {
   "cell_type": "code",
   "execution_count": null,
   "metadata": {},
   "outputs": [],
   "source": []
  },
  {
   "cell_type": "code",
   "execution_count": null,
   "metadata": {},
   "outputs": [],
   "source": []
  }
 ],
 "metadata": {
  "kernelspec": {
   "display_name": "Python 3",
   "language": "python",
   "name": "python3"
  },
  "language_info": {
   "codemirror_mode": {
    "name": "ipython",
    "version": 3
   },
   "file_extension": ".py",
   "mimetype": "text/x-python",
   "name": "python",
   "nbconvert_exporter": "python",
   "pygments_lexer": "ipython3",
   "version": "3.6.8"
  }
 },
 "nbformat": 4,
 "nbformat_minor": 2
}

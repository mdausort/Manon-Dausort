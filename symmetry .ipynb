{
 "cells": [
  {
   "cell_type": "code",
   "execution_count": 25,
   "metadata": {
    "scrolled": false
   },
   "outputs": [],
   "source": [
    "from pymatgen.ext.matproj import MPRester\n",
    "from pymatgen.io.cif import CifWriter\n",
    "from pymatgen.core.operations import SymmOp\n",
    "from IPython.display import Markdown, display\n",
    "from pprint import pprint\n",
    "\n",
    "# Deux petites lignes de codes pour écrire en gras.\n",
    "\n",
    "def printmd(string):\n",
    "    display(Markdown(string))\n",
    "\n",
    "with MPRester(\"id9vmr7Ble8bEfMg\") as m:\n",
    "    structure = m.get_structure_by_material_id(\"mp-7017\")\n",
    "    parser = CifWriter(structure)\n",
    "    parser.write_file('mystructure.cif')"
   ]
  },
  {
   "cell_type": "markdown",
   "metadata": {},
   "source": [
    "## Première opération de symétrie : Plan miroir "
   ]
  },
  {
   "cell_type": "code",
   "execution_count": 48,
   "metadata": {
    "scrolled": false
   },
   "outputs": [
    {
     "data": {
      "text/markdown": [
       "**Opération de symétrie : plan miroir défini par (-y, -x, z)**"
      ],
      "text/plain": [
       "<IPython.core.display.Markdown object>"
      ]
     },
     "metadata": {},
     "output_type": "display_data"
    },
    {
     "name": "stdout",
     "output_type": "stream",
     "text": [
      "La matrice associée à cette opération est :\n",
      "[[ 0. -1.  0.]\n",
      " [-1.  0.  0.]\n",
      " [ 0.  0.  1.]]\n",
      " \n",
      "La position de départ, (x, y, z), d'un atome devient (-y, -x, z) par la matrice de réflexion suivante :\n"
     ]
    }
   ],
   "source": [
    "    # n°8 du document CIF (symmetrized)\n",
    "    \n",
    "    printmd('**Opération de symétrie : plan miroir défini par (-y, -x, z)**')\n",
    "    print('La matrice associée à cette opération est :')    \n",
    "    p2 = SymmOp.from_xyz_string('-y, -x, z')\n",
    "    print(p2.rotation_matrix)\n",
    "    print(' ')\n",
    "    print(\"La position de départ, (x, y, z), d'un atome devient (-y, -x, z) par la matrice de réflexion suivante :\")"
   ]
  },
  {
   "cell_type": "markdown",
   "metadata": {},
   "source": [
    "![](Eqplan.PNG)"
   ]
  },
  {
   "cell_type": "code",
   "execution_count": 30,
   "metadata": {
    "scrolled": true
   },
   "outputs": [
    {
     "data": {
      "text/markdown": [
       "**Plan miroir décrit ci-dessus appliquée à l'atome de Na situé en (0,0,0.5)**"
      ],
      "text/plain": [
       "<IPython.core.display.Markdown object>"
      ]
     },
     "metadata": {},
     "output_type": "display_data"
    },
    {
     "name": "stdout",
     "output_type": "stream",
     "text": [
      "L'atome de Na est envoyé sur sa position de départ (0,0,0.5). En effet, sa positon après avoir subit l'opération de symétrie   nous est donnée par la matrice de coordonnées suivante :\n",
      "[0.  0.  0.5]\n",
      " \n",
      "Sur les figures ci-dessous, on voit bien que comme l'atome en (0,0,5) est situé sur le plan miroir, il est transformé en lui   même.\n"
     ]
    }
   ],
   "source": [
    "    printmd(\"**Plan miroir décrit ci-dessus appliquée à l'atome de Na situé en (0,0,0.5)**\")\n",
    "    print(\"L'atome de Na est envoyé sur sa position de départ (0,0,0.5). En effet, sa positon après avoir subit l'opération de symétrie   nous est donnée par la matrice de coordonnées suivante :\")\n",
    "    print(p2.operate((0,0,0.5)))\n",
    "    print(' ')\n",
    "    print(\"Sur les figures ci-dessous, on voit bien que comme l'atome en (0,0,5) est situé sur le plan miroir, il est transformé en lui   même.\")"
   ]
  },
  {
   "cell_type": "markdown",
   "metadata": {},
   "source": [
    "![](Capture7.PNG)"
   ]
  },
  {
   "cell_type": "markdown",
   "metadata": {},
   "source": [
    "![](Capture.PNG)"
   ]
  },
  {
   "cell_type": "code",
   "execution_count": 15,
   "metadata": {},
   "outputs": [
    {
     "name": "stdout",
     "output_type": "stream",
     "text": [
      "Pour un atome situé en dehors du plan miroir, l'atome est bien envoyé sur sa position par une symétrie orthogonale par rapport au plan miroir.\n"
     ]
    }
   ],
   "source": [
    "print(\"Pour un atome situé en dehors du plan miroir, l'atome est bien envoyé sur sa position par une symétrie orthogonale par rapport au plan miroir.\")"
   ]
  },
  {
   "cell_type": "markdown",
   "metadata": {},
   "source": [
    "![](Capture1.PNG)"
   ]
  },
  {
   "cell_type": "code",
   "execution_count": 32,
   "metadata": {
    "scrolled": true
   },
   "outputs": [
    {
     "name": "stdout",
     "output_type": "stream",
     "text": [
      "Ici, l'atome de Na est renvoyé sur sa position mais dans la maille avoisinante. Les coordonnées de cet atome dans la maille    voisine sont données par le vecteur suivant :\n",
      "[-0.33 -0.67  0.83]\n"
     ]
    }
   ],
   "source": [
    "print(\"Ici, l'atome de Na est renvoyé sur sa position mais dans la maille avoisinante. Les coordonnées de cet atome dans la maille    voisine sont données par le vecteur suivant :\")\n",
    "print(SymmOp.from_xyz_string('-y, -x, z').operate((0.67,0.33,0.83)))"
   ]
  },
  {
   "cell_type": "markdown",
   "metadata": {},
   "source": [
    "## Deuxième opération de symétrie : Translation"
   ]
  },
  {
   "cell_type": "code",
   "execution_count": 47,
   "metadata": {},
   "outputs": [
    {
     "data": {
      "text/markdown": [
       "**Opération de symétrie : translation définie par (x+2/3, y+1/3, z+1/3)**"
      ],
      "text/plain": [
       "<IPython.core.display.Markdown object>"
      ]
     },
     "metadata": {},
     "output_type": "display_data"
    },
    {
     "name": "stdout",
     "output_type": "stream",
     "text": [
      "La matrice associée à cette opération est :\n",
      "[[1. 0. 0.]\n",
      " [0. 1. 0.]\n",
      " [0. 0. 1.]]\n",
      " \n",
      "La position de départ, (x, y, z), d'un atome devient (x+2/3, y+1/3, z+1/3) par la matrice de translation suivante. Autrement   dit, on ajoute aux coordonnées d'un atome le vecteur de coordonées suivant : \n",
      "[0.66666667 0.33333333 0.33333333]\n"
     ]
    }
   ],
   "source": [
    "    #n°13 du document CIF (symmetrized)\n",
    "    \n",
    "    printmd('**Opération de symétrie : translation définie par (x+2/3, y+1/3, z+1/3)**')\n",
    "    print('La matrice associée à cette opération est :')\n",
    "    p1 = SymmOp.from_xyz_string('x+2/3, y+1/3, z+1/3')\n",
    "    print(p1.rotation_matrix) \n",
    "    print(' ')\n",
    "    print(\"La position de départ, (x, y, z), d'un atome devient (x+2/3, y+1/3, z+1/3) par la matrice de translation suivante. Autrement   dit, on ajoute aux coordonnées d'un atome le vecteur de coordonées suivant : \")\n",
    "    print(p1.translation_vector)"
   ]
  },
  {
   "cell_type": "markdown",
   "metadata": {},
   "source": [
    "![](Eqtran.PNG)"
   ]
  },
  {
   "cell_type": "code",
   "execution_count": 37,
   "metadata": {},
   "outputs": [
    {
     "data": {
      "text/markdown": [
       "**Translation décrite ci-dessus appliquée à un atome d'N situé en (0.67,0.33,0.07)**"
      ],
      "text/plain": [
       "<IPython.core.display.Markdown object>"
      ]
     },
     "metadata": {},
     "output_type": "display_data"
    },
    {
     "name": "stdout",
     "output_type": "stream",
     "text": [
      "L'atome d'N est envoyé sur sa nouvelle position par la matrice de coordonnées-ci dessous :\n",
      "[1.33666667 0.66333333 0.40333333]\n",
      " \n",
      "Cette position ne se trouve pas dans la même maille que la position de départ. Dans la maille de départ, la position est     (0.33,0.67,0.4)\n",
      "Sur les figures ci-dessous, on peut voir ce qu'il se passe lorqu'un atome est translaté par la matrice ci-dessus.\n"
     ]
    }
   ],
   "source": [
    "    printmd(\"**Translation décrite ci-dessus appliquée à un atome d'N situé en (0.67,0.33,0.07)**\")\n",
    "    print(\"L'atome d'N est envoyé sur sa nouvelle position par la matrice de coordonnées-ci dessous :\")\n",
    "    print(p1.operate((0.67,0.33,0.07)))\n",
    "    print(' ')\n",
    "    print('Cette position ne se trouve pas dans la même maille que la position de départ. Dans la maille de départ, la position est     (0.33,0.67,0.4)')\n",
    "    print(\"Sur les figures ci-dessous, on peut voir ce qu'il se passe lorqu'un atome est translaté par la matrice ci-dessus.\")"
   ]
  },
  {
   "cell_type": "markdown",
   "metadata": {},
   "source": [
    "![](Capture2.PNG)"
   ]
  },
  {
   "cell_type": "markdown",
   "metadata": {},
   "source": [
    "![](Capture3.PNG)"
   ]
  },
  {
   "cell_type": "markdown",
   "metadata": {},
   "source": [
    "## Troisième opération de symétrie : Axe de rotation d'ordre 2"
   ]
  },
  {
   "cell_type": "code",
   "execution_count": 46,
   "metadata": {
    "scrolled": true
   },
   "outputs": [
    {
     "data": {
      "text/markdown": [
       "**Opération de symétrie : axe de rotation d'ordre 2 (y+1/3, x+2/3, -z+2/3)**"
      ],
      "text/plain": [
       "<IPython.core.display.Markdown object>"
      ]
     },
     "metadata": {},
     "output_type": "display_data"
    },
    {
     "name": "stdout",
     "output_type": "stream",
     "text": [
      "La matrice associée à cette opération de symétrie est :\n",
      "[[ 0.  1.  0.]\n",
      " [ 1.  0.  0.]\n",
      " [ 0.  0. -1.]]\n",
      " \n",
      "La position de départ, (x, y, z), d'un atome devient (y+1/3, x+2/3, -z+2/3) par la matrice de rotation suivante :\n"
     ]
    }
   ],
   "source": [
    "    #n°31 du document CIF\n",
    "    \n",
    "    printmd(\"**Opération de symétrie : axe de rotation d'ordre 2 (y+1/3, x+2/3, -z+2/3)**\")\n",
    "    print('La matrice associée à cette opération de symétrie est :')\n",
    "    p3 = SymmOp.from_xyz_string('y+1/3, x+2/3, -z+2/3')\n",
    "    print(p3.rotation_matrix)\n",
    "    print(' ')\n",
    "    print(\"La position de départ, (x, y, z), d'un atome devient (y+1/3, x+2/3, -z+2/3) par la matrice de rotation suivante :\")"
   ]
  },
  {
   "cell_type": "markdown",
   "metadata": {},
   "source": [
    "![](Capture6.PNG)"
   ]
  },
  {
   "cell_type": "code",
   "execution_count": 45,
   "metadata": {
    "scrolled": true
   },
   "outputs": [
    {
     "data": {
      "text/markdown": [
       "**Axe de rotation d'ordre 2, décrit ci-dessus appliquée au Nb situé en (0,0,1)**"
      ],
      "text/plain": [
       "<IPython.core.display.Markdown object>"
      ]
     },
     "metadata": {},
     "output_type": "display_data"
    },
    {
     "name": "stdout",
     "output_type": "stream",
     "text": [
      "L'atome Nb est envoyé sur sa nouvelle position par la matrice de coordonnées-ci dessous :\n",
      "[ 0.33333333  0.66666667 -0.33333333]\n",
      " \n",
      "Cette position ne se trouve pas dans la même maille que la position de départ. Dans la maille sitée à l'origine du repère, la  position est (0.33,0.67,0.67).\n",
      "Sur les figures ci-dessous, on peut voir ce qu'il se passe lorqu'un atome subit la rotation décrite par la matrice ci-dessus.\n"
     ]
    }
   ],
   "source": [
    "    printmd(\"**Axe de rotation d'ordre 2, décrit ci-dessus appliquée au Nb situé en (0,0,1)**\")\n",
    "    print(\"L'atome Nb est envoyé sur sa nouvelle position par la matrice de coordonnées-ci dessous :\")\n",
    "    print(p3.operate((0,0,1)))\n",
    "    print(' ')\n",
    "    print(\"Cette position ne se trouve pas dans la même maille que la position de départ. Dans la maille sitée à l'origine du repère, la  position est (0.33,0.67,0.67).\")\n",
    "    print(\"Sur les figures ci-dessous, on peut voir ce qu'il se passe lorqu'un atome subit la rotation décrite par la matrice ci-dessus.\")"
   ]
  },
  {
   "cell_type": "markdown",
   "metadata": {},
   "source": [
    "![](Capture4.PNG)"
   ]
  },
  {
   "cell_type": "markdown",
   "metadata": {},
   "source": [
    "![](Capture5.PNG)"
   ]
  }
 ],
 "metadata": {
  "kernelspec": {
   "display_name": "Python 3",
   "language": "python",
   "name": "python3"
  },
  "language_info": {
   "codemirror_mode": {
    "name": "ipython",
    "version": 3
   },
   "file_extension": ".py",
   "mimetype": "text/x-python",
   "name": "python",
   "nbconvert_exporter": "python",
   "pygments_lexer": "ipython3",
   "version": "3.6.8"
  }
 },
 "nbformat": 4,
 "nbformat_minor": 2
}
